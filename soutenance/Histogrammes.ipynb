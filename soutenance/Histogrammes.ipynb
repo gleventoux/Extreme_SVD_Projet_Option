{
 "cells": [
  {
   "cell_type": "code",
   "execution_count": 24,
   "id": "ca191d3e",
   "metadata": {},
   "outputs": [],
   "source": [
    "import pandas as pd\n",
    "import matplotlib.pyplot as plt\n",
    "import numpy as np"
   ]
  },
  {
   "cell_type": "code",
   "execution_count": 20,
   "id": "a09b5b66",
   "metadata": {},
   "outputs": [
    {
     "name": "stdout",
     "output_type": "stream",
     "text": [
      "Index(['METHODS', ' (1e3,1e2) ', ' (1e4,1e2) ', ' (1e5,1e3) '], dtype='object')\n",
      "Index(['METHODS', ' (1e3,1e2) ', ' (1e4,1e2) ', ' (1e5,1e3) '], dtype='object')\n"
     ]
    }
   ],
   "source": [
    "results = [\"Gregory\",\"Paul\"]\n",
    "df_dict = {}\n",
    "for result in results:\n",
    "    filename = result+\".csv\"\n",
    "    df = pd.read_csv(filename,sep=\",\",header=0)\n",
    "    print(df.columns)\n",
    "    df.astype({\"METHODS\" : \"str\"})\n",
    "    df_dict[result] = df\n"
   ]
  },
  {
   "cell_type": "code",
   "execution_count": 23,
   "id": "221f0dcc",
   "metadata": {},
   "outputs": [
    {
     "data": {
      "text/plain": [
       "['numpy', 'scipy', 'dask', 'ipca']"
      ]
     },
     "execution_count": 23,
     "metadata": {},
     "output_type": "execute_result"
    }
   ],
   "source": [
    "labels = list(df_dict[\"Paul\"][\"METHODS\"])"
   ]
  },
  {
   "cell_type": "code",
   "execution_count": null,
   "id": "69539bf7",
   "metadata": {},
   "outputs": [],
   "source": [
    "x = np.arange(len(labels))  # the label locations\n",
    "width = 0.35  # the width of the bars\n",
    "\n",
    "fig, ax = plt.subplots()\n",
    "rects1 = ax.bar(x - width/2, men_means, width, label='Men')\n",
    "rects2 = ax.bar(x + width/2, women_means, width, label='Women')"
   ]
  }
 ],
 "metadata": {
  "kernelspec": {
   "display_name": "Python 3 (ipykernel)",
   "language": "python",
   "name": "python3"
  },
  "language_info": {
   "codemirror_mode": {
    "name": "ipython",
    "version": 3
   },
   "file_extension": ".py",
   "mimetype": "text/x-python",
   "name": "python",
   "nbconvert_exporter": "python",
   "pygments_lexer": "ipython3",
   "version": "3.9.12"
  }
 },
 "nbformat": 4,
 "nbformat_minor": 5
}
