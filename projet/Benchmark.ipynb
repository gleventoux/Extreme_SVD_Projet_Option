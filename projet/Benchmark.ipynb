{
 "cells": [
  {
   "cell_type": "markdown",
   "id": "b4827b48",
   "metadata": {},
   "source": [
    "## Decomposition SVD de matrices de grandes dimensions\n",
    "# Benchmark de différents algorithmes"
   ]
  },
  {
   "cell_type": "code",
   "execution_count": 2,
   "id": "e53862d6",
   "metadata": {},
   "outputs": [],
   "source": [
    "import func_to_test as fb\n",
    "import numpy as np\n",
    "import gc"
   ]
  },
  {
   "cell_type": "markdown",
   "id": "ce65db42",
   "metadata": {},
   "source": [
    "# Initialisation des matrices de test"
   ]
  },
  {
   "cell_type": "code",
   "execution_count": 3,
   "id": "6bf75479",
   "metadata": {},
   "outputs": [
    {
     "name": "stdout",
     "output_type": "stream",
     "text": [
      "[[     0      1      2 ...    997    998    999]\n",
      " [  1000   1001   1002 ...   1997   1998   1999]\n",
      " [  2000   2001   2002 ...   2997   2998   2999]\n",
      " ...\n",
      " [997000 997001 997002 ... 997997 997998 997999]\n",
      " [998000 998001 998002 ... 998997 998998 998999]\n",
      " [999000 999001 999002 ... 999997 999998 999999]]\n"
     ]
    }
   ],
   "source": [
    "# matrice structurée de rang 2 (par Paul)\n",
    "\n",
    "ligne = int(10**3)\n",
    "colonne = int(10**3)\n",
    "a_matrix = np.arange(0,ligne*colonne,step=1).reshape(ligne,colonne)\n",
    "print(a_matrix)\n",
    "nrb_max_sval=min(a_matrix.shape)"
   ]
  },
  {
   "cell_type": "markdown",
   "id": "855674a4",
   "metadata": {},
   "source": [
    "# Time Benchmark"
   ]
  },
  {
   "cell_type": "code",
   "execution_count": 4,
   "id": "1fb998e8",
   "metadata": {},
   "outputs": [],
   "source": [
    "%load_ext line_profiler"
   ]
  },
  {
   "cell_type": "markdown",
   "id": "cf3485e6",
   "metadata": {},
   "source": [
    "Test de Primme"
   ]
  },
  {
   "cell_type": "code",
   "execution_count": 8,
   "id": "abb0bf2f",
   "metadata": {},
   "outputs": [
    {
     "name": "stdout",
     "output_type": "stream",
     "text": [
      "Test PRIMME\n",
      " Duration : 0.05067873001098633 seconds\n",
      " 6 Largest Singular Values (includes machine 0):\n",
      "[ 5.77349818e+08  1.44337536e+05  1.50143534e-08  1.73808927e-09\n",
      " -2.15585758e-10 -2.28313064e-08]\n",
      "Left Singular vectors dimension\n",
      "(1000, 6)\n",
      "Right Singular vectors dimension\n",
      "(6, 1000)\n"
     ]
    }
   ],
   "source": [
    "%lprun -f fb.test_primme fb.test_primme(a_matrix,6)"
   ]
  },
  {
   "cell_type": "markdown",
   "id": "ab85f432",
   "metadata": {},
   "source": [
    "Numpy comme Première référence\n",
    "Implémentation de LARPACK en divide and conquer"
   ]
  },
  {
   "cell_type": "code",
   "execution_count": 9,
   "id": "c5552cea",
   "metadata": {},
   "outputs": [
    {
     "name": "stdout",
     "output_type": "stream",
     "text": [
      "Numpy svd\n",
      " Duration : 0.14104676246643066 seconds\n",
      "S matrix shape \n",
      "(1000,)\n",
      "6 Largest Singular Values (includes machine 0):\n",
      "[5.77349818e+08 1.44337536e+05 2.68990582e-07 2.58038761e-07\n",
      " 2.45108756e-07 2.31068302e-07]\n",
      "Left Singular vectors dimension\n",
      "(1000, 1000)\n",
      "Right Singular vectors dimension\n",
      "(1000, 1000)\n"
     ]
    }
   ],
   "source": [
    "gc.collect()\n",
    "%lprun -f fb.test_numpy fb.test_numpy(a_matrix)"
   ]
  },
  {
   "cell_type": "markdown",
   "id": "6f47574e",
   "metadata": {},
   "source": [
    "Scipy comme Seconde Référence avec ecrasement de la matrice initiale \n",
    "\n",
    "Approche divide-and-conquer "
   ]
  },
  {
   "cell_type": "code",
   "execution_count": 10,
   "id": "25f36c00",
   "metadata": {},
   "outputs": [
    {
     "name": "stdout",
     "output_type": "stream",
     "text": [
      "Scipy svd\n",
      " Duration : 0.10658550262451172 seconds\n",
      "S matrix shape \n",
      "(1000,)\n",
      "6 Largest Singular Values (includes machine 0):\n",
      "[5.77349818e+08 1.44337536e+05 2.68990582e-07 2.58038761e-07\n",
      " 2.45108756e-07 2.31068302e-07]\n",
      "Left Singular vectors dimension\n",
      "(1000, 1000)\n",
      "Right Singular vectors dimension\n",
      "(1000, 1000)\n"
     ]
    }
   ],
   "source": [
    "gc.collect()\n",
    "%lprun -f fb.test_scipy fb.test_scipy(a_matrix)"
   ]
  },
  {
   "cell_type": "code",
   "execution_count": null,
   "id": "07c982d2",
   "metadata": {},
   "outputs": [],
   "source": []
  }
 ],
 "metadata": {
  "kernelspec": {
   "display_name": "SVD",
   "language": "python",
   "name": "svd"
  },
  "language_info": {
   "codemirror_mode": {
    "name": "ipython",
    "version": 3
   },
   "file_extension": ".py",
   "mimetype": "text/x-python",
   "name": "python",
   "nbconvert_exporter": "python",
   "pygments_lexer": "ipython3",
   "version": "3.10.8"
  }
 },
 "nbformat": 4,
 "nbformat_minor": 5
}
