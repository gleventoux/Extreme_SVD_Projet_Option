{
 "cells": [
  {
   "cell_type": "code",
   "execution_count": 1,
   "metadata": {},
   "outputs": [],
   "source": [
    "import test_pyparsvd as tp\n",
    "import gc\n",
    "%load_ext memory_profiler\n",
    "%load_ext line_profiler"
   ]
  },
  {
   "cell_type": "code",
   "execution_count": 3,
   "metadata": {},
   "outputs": [
    {
     "name": "stdout",
     "output_type": "stream",
     "text": [
      "Runing time for parallel calculation:11.615 seconds.\n",
      "Timer unit: 1e-09 s\n",
      "\n",
      "Total time: 11.6632 s\n",
      "File: /Users/zhangxin/Desktop/extreme_svd_project/test_pyparsvd.py\n",
      "Function: test_mini_parallel at line 114\n",
      "\n",
      "Line #      Hits         Time  Per Hit   % Time  Line Contents\n",
      "==============================================================\n",
      "   114                                           def test_mini_parallel(mini_files='data/mini_data/'):\n",
      "   115                                               # Path to mini-data\n",
      "   116         1      13000.0  13000.0      0.0      path = os.path.join(CFD, mini_files)\n",
      "   117                                               \n",
      "   118                                               # Initialize MPI\n",
      "   119         1       1000.0   1000.0      0.0      comm = MPI.COMM_WORLD\n",
      "   120         1       3000.0   3000.0      0.0      rank = comm.Get_rank()\n",
      "   121         1       1000.0   1000.0      0.0      nprocs = comm.Get_size()\n",
      "   122                                               \n",
      "   123                                               # Batchwise data - note these are 4 .h5 files\n",
      "   124         1          0.0      0.0      0.0      data_list=[]\n",
      "   125         4       6000.0   1500.0      0.0      for i in range(4):\n",
      "   126         4      80000.0  20000.0      0.0          data_path = os.path.join(path, f'Batch_{i}_data.h5')\n",
      "   127         4   48078000.0 12019500.0      0.4          data = load_h5_parallel(data_path,comm,rank,nprocs,'dataset')\n",
      "   128         4      10000.0   2500.0      0.0          data_list.append(data)\n",
      "   129                                           \n",
      "   130                                               # Construct SVD objects\n",
      "   131         1      22000.0  22000.0      0.0      ParSVD = ParSVD_Parallel(K=20, ff=1.0, low_rank=False)\n",
      "   132                                               # Do first modal decomposition -- Parallel\n",
      "   133         1       4000.0   4000.0      0.0      s = time.time()\n",
      "   134         1  190051000.0 190051000.0      1.6      ParSVD.initialize(data_list[0])\n",
      "   135                                               # Incorporate new data -- Parallel\n",
      "   136         3       3000.0   1000.0      0.0      for i in range(1,4):\n",
      "   137         3 11424765000.0 3808255000.0     98.0          ParSVD.incorporate_data(data_list[i])\n",
      "   138                                           \n",
      "   139         1     129000.0 129000.0      0.0      if ParSVD.rank == 0: print(f\"Runing time for parallel calculation:{time.time() - s:.3f} seconds.\")"
     ]
    }
   ],
   "source": [
    "%lprun -f tp.test_mini_parallel tp.test_mini_parallel()"
   ]
  },
  {
   "cell_type": "code",
   "execution_count": 4,
   "metadata": {},
   "outputs": [
    {
     "name": "stdout",
     "output_type": "stream",
     "text": [
      "Runing time for parallel calculation:11.472 seconds.\n",
      "\n",
      "Filename: /Users/zhangxin/Desktop/extreme_svd_project/test_pyparsvd.py\n",
      "\n",
      "Line #    Mem usage    Increment  Occurrences   Line Contents\n",
      "=============================================================\n",
      "   114   5137.1 MiB   5137.1 MiB           1   def test_mini_parallel(mini_files='data/mini_data/'):\n",
      "   115                                             # Path to mini-data\n",
      "   116   5137.1 MiB      0.0 MiB           1       path = os.path.join(CFD, mini_files)\n",
      "   117                                             \n",
      "   118                                             # Initialize MPI\n",
      "   119   5137.1 MiB      0.0 MiB           1       comm = MPI.COMM_WORLD\n",
      "   120   5137.1 MiB      0.0 MiB           1       rank = comm.Get_rank()\n",
      "   121   5137.1 MiB      0.0 MiB           1       nprocs = comm.Get_size()\n",
      "   122                                             \n",
      "   123                                             # Batchwise data - note these are 4 .h5 files\n",
      "   124   5137.1 MiB      0.0 MiB           1       data_list=[]\n",
      "   125   5137.2 MiB      0.0 MiB           5       for i in range(4):\n",
      "   126   5137.2 MiB      0.0 MiB           4           data_path = os.path.join(path, f'Batch_{i}_data.h5')\n",
      "   127   5137.2 MiB      0.1 MiB           4           data = load_h5_parallel(data_path,comm,rank,nprocs,'dataset')\n",
      "   128   5137.2 MiB      0.0 MiB           4           data_list.append(data)\n",
      "   129                                         \n",
      "   130                                             # Construct SVD objects\n",
      "   131   5137.2 MiB      0.0 MiB           1       ParSVD = ParSVD_Parallel(K=20, ff=1.0, low_rank=False)\n",
      "   132                                             # Do first modal decomposition -- Parallel\n",
      "   133   5137.2 MiB      0.0 MiB           1       s = time.time()\n",
      "   134   5157.2 MiB     20.0 MiB           1       ParSVD.initialize(data_list[0])\n",
      "   135                                             # Incorporate new data -- Parallel\n",
      "   136   6420.8 MiB      0.0 MiB           4       for i in range(1,4):\n",
      "   137   6420.8 MiB   1263.5 MiB           3           ParSVD.incorporate_data(data_list[i])\n",
      "   138                                         \n",
      "   139   6420.8 MiB      0.0 MiB           1       if ParSVD.rank == 0: print(f\"Runing time for parallel calculation:{time.time() - s:.3f} seconds.\")"
     ]
    }
   ],
   "source": [
    "gc.collect()\n",
    "%mprun -f tp.test_mini_parallel tp.test_mini_parallel()"
   ]
  },
  {
   "cell_type": "code",
   "execution_count": null,
   "metadata": {},
   "outputs": [],
   "source": [
    "gc.collect()\n",
    "%lprun -f tp.test_mini_serial tp.test_mini_serial()"
   ]
  },
  {
   "cell_type": "code",
   "execution_count": 5,
   "metadata": {},
   "outputs": [
    {
     "name": "stdout",
     "output_type": "stream",
     "text": [
      "Runing time for serial calculation: 2.162 seconds.\n",
      "\n",
      "Filename: /Users/zhangxin/Desktop/extreme_svd_project/test_pyparsvd.py\n",
      "\n",
      "Line #    Mem usage    Increment  Occurrences   Line Contents\n",
      "=============================================================\n",
      "   141   5180.8 MiB   5180.8 MiB           1   def test_mini_serial(mini_files='data/mini_data/'):\n",
      "   142                                             # Path to mini-data\n",
      "   143   5180.8 MiB      0.0 MiB           1       path = os.path.join(CFD, mini_files)\n",
      "   144                                             \n",
      "   145                                             # Batchwise data - note these are 4 .h5 files\n",
      "   146                                             # import data from HDF5 file to create numpy arrays\n",
      "   147   5180.8 MiB      0.0 MiB           1       data_list=[]\n",
      "   148   5180.9 MiB      0.0 MiB           5       for i in range(4):\n",
      "   149   5180.9 MiB      0.0 MiB           4           data_path = os.path.join(path, f'Batch_{i}_data.h5')\n",
      "   150   5180.9 MiB      0.2 MiB           4           data= load_h5_serial (data_path,'dataset')\n",
      "   151   5180.9 MiB      0.0 MiB           4           data_list.append(data)\n",
      "   152                                                 \n",
      "   153   5180.9 MiB      0.0 MiB           1       SerSVD = ParSVD_Serial(K=10, ff=1.0)    \n",
      "   154   5180.9 MiB      0.0 MiB           1       start = time.time()\n",
      "   155   5481.1 MiB    300.2 MiB           1       SerSVD.initialize(data_list[0])\n",
      "   156                                             # Incorporate new data -- serial\n",
      "   157   5481.1 MiB      0.0 MiB           4       for i in range(1,4):\n",
      "   158   5361.3 MiB   -369.4 MiB           3           SerSVD.incorporate_data(data_list[i]) \n",
      "   159   5361.3 MiB   -119.8 MiB           1       print(f\"Runing time for serial calculation: {time.time() - start:.3f} seconds.\")"
     ]
    }
   ],
   "source": [
    "gc.collect()\n",
    "%mprun -f tp.test_mini_serial tp.test_mini_serial()"
   ]
  },
  {
   "cell_type": "code",
   "execution_count": null,
   "metadata": {},
   "outputs": [],
   "source": []
  }
 ],
 "metadata": {
  "kernelspec": {
   "display_name": "Python 3",
   "language": "python",
   "name": "python3"
  },
  "language_info": {
   "codemirror_mode": {
    "name": "ipython",
    "version": 3
   },
   "file_extension": ".py",
   "mimetype": "text/x-python",
   "name": "python",
   "nbconvert_exporter": "python",
   "pygments_lexer": "ipython3",
   "version": "3.8.10"
  },
  "vscode": {
   "interpreter": {
    "hash": "9781cdeea30c8e40dc57358a68cad1acb0ce40c5d11e332ff1e1ea6ec7e20851"
   }
  }
 },
 "nbformat": 4,
 "nbformat_minor": 2
}
